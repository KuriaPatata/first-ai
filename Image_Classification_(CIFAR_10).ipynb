{
  "nbformat": 4,
  "nbformat_minor": 0,
  "metadata": {
    "colab": {
      "provenance": [],
      "include_colab_link": true
    },
    "kernelspec": {
      "name": "python3",
      "display_name": "Python 3"
    },
    "language_info": {
      "name": "python"
    }
  },
  "cells": [
    {
      "cell_type": "markdown",
      "metadata": {
        "id": "view-in-github",
        "colab_type": "text"
      },
      "source": [
        "<a href=\"https://colab.research.google.com/github/KuriaPatata/first-ai/blob/main/Image_Classification_(CIFAR_10).ipynb\" target=\"_parent\"><img src=\"https://colab.research.google.com/assets/colab-badge.svg\" alt=\"Open In Colab\"/></a>"
      ]
    },
    {
      "cell_type": "code",
      "source": [
        "# Import PyTorch\n",
        "import torch\n",
        "from torch import nn\n",
        "\n",
        "# Import torchvision and torchvision datasets\n",
        "import torchvision\n",
        "from torchvision import datasets\n",
        "\n",
        "# Import data-specific utilities\n",
        "import torchvision.transforms as T\n",
        "from torch.utils.data import DataLoader\n",
        "from torch.utils.data import sampler\n",
        "\n",
        "# Import train-specific utilities\n",
        "import torch.nn.functional as F\n",
        "from torch import optim\n",
        "\n",
        "# Improt matplotlib\n",
        "import matplotlib.pyplot as plt\n",
        "\n",
        "# Import numpy\n",
        "import numpy as np\n",
        "\n",
        "# Improt sklearn.metrics\n",
        "from sklearn.metrics import precision_score, f1_score, confusion_matrix\n",
        "\n",
        "# Check versions\n",
        "# Note: your PyTorch version shouldn't be lower than 1.10.0 and torchvision version shouldn't be lower than 0.11\n",
        "print(f\"PyTorch version: {torch.__version__}\\ntorchvision version: {torchvision.__version__}\")"
      ],
      "metadata": {
        "colab": {
          "base_uri": "https://localhost:8080/"
        },
        "id": "laciGAjpy8jh",
        "outputId": "61bb8c63-c6ed-4792-98be-e4fc6d989032"
      },
      "execution_count": null,
      "outputs": [
        {
          "output_type": "stream",
          "name": "stdout",
          "text": [
            "PyTorch version: 2.0.1+cu118\n",
            "torchvision version: 0.15.2+cu118\n"
          ]
        }
      ]
    },
    {
      "cell_type": "code",
      "source": [
        "import urllib.request\n",
        "import tarfile\n",
        "\n",
        "# URL of the CIFAR-10 dataset\n",
        "url = \"https://www.cs.toronto.edu/~kriz/cifar-10-python.tar.gz\"\n",
        "filename = \"cifar-10-python.tar.gz\"\n",
        "\n",
        "# Download the dataset\n",
        "urllib.request.urlretrieve(url, filename)\n",
        "\n",
        "# Extract the dataset\n",
        "with tarfile.open(filename, \"r:gz\") as tar:\n",
        "    tar.extractall()"
      ],
      "metadata": {
        "id": "jyKFQcyrz58B"
      },
      "execution_count": null,
      "outputs": []
    },
    {
      "cell_type": "code",
      "source": [
        "# Set device (GPU or CPU)\n",
        "device = torch.device('cuda' if torch.cuda.is_available() else 'cpu')"
      ],
      "metadata": {
        "id": "Lnh3xFbv_v7b"
      },
      "execution_count": null,
      "outputs": []
    },
    {
      "cell_type": "code",
      "source": [
        "# Set random seed for reproducibility\n",
        "torch.manual_seed(0)\n",
        "np.random.seed(0)"
      ],
      "metadata": {
        "id": "9O2TRw3-_0DP"
      },
      "execution_count": null,
      "outputs": []
    },
    {
      "cell_type": "code",
      "source": [
        "# Define the transformations for the dataset\n",
        "transform = T.Compose([\n",
        "    T.ToTensor(),\n",
        "    T.Normalize((0.5, 0.5, 0.5), (0.5, 0.5, 0.5))\n",
        "])"
      ],
      "metadata": {
        "id": "Gi0Mu_98_4PG"
      },
      "execution_count": null,
      "outputs": []
    },
    {
      "cell_type": "code",
      "source": [
        "# Download and load the CIFAR-10 dataset\n",
        "train_dataset = datasets.CIFAR10(root='./data', train=True, download=True, transform=transform)\n",
        "test_dataset = datasets.CIFAR10(root='./data', train=False, download=True, transform=transform)\n",
        "\n",
        "# Define the data loaders for training and test sets\n",
        "batch_size = 64\n",
        "train_loader = DataLoader(train_dataset, batch_size=batch_size, shuffle=True)\n",
        "test_loader = DataLoader(test_dataset, batch_size=batch_size, shuffle=False)"
      ],
      "metadata": {
        "colab": {
          "base_uri": "https://localhost:8080/"
        },
        "id": "jS8fR_3F_8Wu",
        "outputId": "83330eb3-7191-4af6-a4f7-413b89357450"
      },
      "execution_count": null,
      "outputs": [
        {
          "output_type": "stream",
          "name": "stdout",
          "text": [
            "Files already downloaded and verified\n",
            "Files already downloaded and verified\n"
          ]
        }
      ]
    },
    {
      "cell_type": "code",
      "source": [
        "# Define the MLP architecture\n",
        "class MLP(nn.Module):\n",
        "    def __init__(self):\n",
        "        super(MLP, self).__init__()\n",
        "        self.fc1 = nn.Linear(3 * 32 * 32, 512)\n",
        "        self.fc2 = nn.Linear(512, 256)\n",
        "        self.fc3 = nn.Linear(256, 128)\n",
        "        self.fc4 = nn.Linear(128, 64)\n",
        "        self.fc5 = nn.Linear(64, 10)\n",
        "\n",
        "    def forward(self, x):\n",
        "        x = x.view(x.size(0), -1)\n",
        "        x = F.relu(self.fc1(x))\n",
        "        x = F.relu(self.fc2(x))\n",
        "        x = F.relu(self.fc3(x))\n",
        "        x = F.relu(self.fc4(x))\n",
        "        x = self.fc5(x)\n",
        "        return x"
      ],
      "metadata": {
        "id": "cCsPTq1xADBG"
      },
      "execution_count": null,
      "outputs": []
    },
    {
      "cell_type": "code",
      "source": [
        "# Define the CNN architecture\n",
        "class CNN(nn.Module):\n",
        "    def __init__(self):\n",
        "        super(CNN, self).__init__()\n",
        "        self.conv1 = nn.Conv2d(3, 16, kernel_size=5, stride=1, padding=2)\n",
        "        self.pool = nn.MaxPool2d(kernel_size=2, stride=2)\n",
        "        self.conv2 = nn.Conv2d(16, 32, kernel_size=5, stride=1, padding=2)\n",
        "        self.fc1 = nn.Linear(32 * 8 * 8, 120)\n",
        "        self.fc2 = nn.Linear(120, 84)\n",
        "        self.fc3 = nn.Linear(84, 10)\n",
        "\n",
        "    def forward(self, x):\n",
        "        x = self.pool(F.relu(self.conv1(x)))\n",
        "        x = self.pool(F.relu(self.conv2(x)))\n",
        "        x = x.view(x.size(0), -1)\n",
        "        x = F.relu(self.fc1(x))\n",
        "        x = F.relu(self.fc2(x))\n",
        "        x = self.fc3(x)\n",
        "        return x"
      ],
      "metadata": {
        "id": "xbyn1_0IAH7l"
      },
      "execution_count": null,
      "outputs": []
    },
    {
      "cell_type": "code",
      "source": [
        "# Initialize the models\n",
        "mlp_model = MLP().to(device)\n",
        "cnn_model = CNN().to(device)\n",
        "\n",
        "# Define the loss function and optimizer\n",
        "criterion = nn.CrossEntropyLoss()\n",
        "mlp_optimizer = optim.Adam(mlp_model.parameters(), lr=0.001)\n",
        "cnn_optimizer = optim.Adam(cnn_model.parameters(), lr=0.001)\n",
        "\n",
        "# Function to calculate precision and F1 score\n",
        "def calculate_metrics(y_true, y_pred):\n",
        "    precision = precision_score(y_true, y_pred, average=None)\n",
        "    f1 = f1_score(y_true, y_pred, average=None)\n",
        "    return precision, f1\n",
        "\n",
        "# Function to calculate confusion matrix\n",
        "def calculate_confusion_matrix(y_true, y_pred):\n",
        "    return confusion_matrix(y_true, y_pred)"
      ],
      "metadata": {
        "id": "0hq2r_IdAQrZ"
      },
      "execution_count": null,
      "outputs": []
    },
    {
      "cell_type": "code",
      "source": [
        "# Function to evaluate the model\n",
        "def evaluate_model(model, data_loader):\n",
        "    model.eval()\n",
        "    all_preds = []\n",
        "    all_labels = []\n",
        "\n",
        "    with torch.no_grad():\n",
        "        for inputs, labels in data_loader:\n",
        "            inputs = inputs.to(device)\n",
        "            labels = labels.to(device)\n",
        "            outputs = model(inputs)\n",
        "            _, predicted = torch.max(outputs, 1)\n",
        "            all_preds.extend(predicted.cpu().numpy())\n",
        "            all_labels.extend(labels.cpu().numpy())\n",
        "\n",
        "    precision, f1 = calculate_metrics(all_labels, all_preds)\n",
        "    confusion_mat = calculate_confusion_matrix(all_labels, all_preds)\n",
        "    return precision, f1, confusion_mat"
      ],
      "metadata": {
        "id": "4g8v994QAR74"
      },
      "execution_count": null,
      "outputs": []
    },
    {
      "cell_type": "code",
      "source": [
        "# Function to train the model\n",
        "def train_model(model, data_loader, optimizer, criterion, num_epochs):\n",
        "    model.train()\n",
        "    for epoch in range(num_epochs):\n",
        "        running_loss = 0.0\n",
        "        for inputs, labels in data_loader:\n",
        "            inputs = inputs.to(device)\n",
        "            labels = labels.to(device)\n",
        "            optimizer.zero_grad()\n",
        "            outputs = model(inputs)\n",
        "            loss = criterion(outputs, labels)\n",
        "            loss.backward()\n",
        "            optimizer.step()\n",
        "            running_loss += loss.item()\n",
        "\n",
        "        print(f'Epoch [{epoch+1}/{num_epochs}], Loss: {running_loss / len(data_loader):.4f}')\n",
        "\n",
        "# Training the MLP model\n",
        "num_epochs = 10\n",
        "train_model(mlp_model, train_loader, mlp_optimizer, criterion, num_epochs)\n",
        "\n",
        "# Evaluating the MLP model on the test set\n",
        "mlp_precision, mlp_f1, mlp_confusion = evaluate_model(mlp_model, test_loader)\n",
        "\n",
        "# Training the CNN model\n",
        "num_epochs = 10\n",
        "train_model(cnn_model, train_loader, cnn_optimizer, criterion, num_epochs)\n",
        "\n",
        "# Evaluating the CNN model on the test set\n",
        "cnn_precision, cnn_f1, cnn_confusion = evaluate_model(cnn_model, test_loader)"
      ],
      "metadata": {
        "colab": {
          "base_uri": "https://localhost:8080/"
        },
        "id": "_rz5Q7bXAVCf",
        "outputId": "3b5680c1-2a68-4399-a490-f150aba5f77a"
      },
      "execution_count": null,
      "outputs": [
        {
          "output_type": "stream",
          "name": "stdout",
          "text": [
            "Epoch [1/10], Loss: 1.6801\n",
            "Epoch [2/10], Loss: 1.4549\n",
            "Epoch [3/10], Loss: 1.3356\n",
            "Epoch [4/10], Loss: 1.2429\n",
            "Epoch [5/10], Loss: 1.1585\n",
            "Epoch [6/10], Loss: 1.0797\n",
            "Epoch [7/10], Loss: 1.0038\n",
            "Epoch [8/10], Loss: 0.9317\n",
            "Epoch [9/10], Loss: 0.8652\n",
            "Epoch [10/10], Loss: 0.7996\n",
            "Epoch [1/10], Loss: 1.4608\n",
            "Epoch [2/10], Loss: 1.0915\n",
            "Epoch [3/10], Loss: 0.9139\n",
            "Epoch [4/10], Loss: 0.7968\n",
            "Epoch [5/10], Loss: 0.6993\n",
            "Epoch [6/10], Loss: 0.6185\n",
            "Epoch [7/10], Loss: 0.5476\n",
            "Epoch [8/10], Loss: 0.4793\n",
            "Epoch [9/10], Loss: 0.4156\n",
            "Epoch [10/10], Loss: 0.3635\n"
          ]
        }
      ]
    },
    {
      "cell_type": "code",
      "source": [
        "# Printing the results for MLP\n",
        "print('Results for MLP:')\n",
        "print('Precision:')\n",
        "print(mlp_precision)\n",
        "print('F1-score:')\n",
        "print(mlp_f1)\n",
        "print('Confusion Matrix:')\n",
        "print(mlp_confusion)\n",
        "\n",
        "# Printing the results for CNN\n",
        "print('Results for CNN:')\n",
        "print('Precision:')\n",
        "print(cnn_precision)\n",
        "print('F1-score:')\n",
        "print(cnn_f1)\n",
        "print('Confusion Matrix:')\n",
        "print(cnn_confusion)\n",
        "\n",
        "# Comparing the two methods\n",
        "print('Comparison of MLP and CNN:')\n",
        "print('Precision:')\n",
        "print(' MLP:', np.mean(mlp_precision))\n",
        "print(' CNN:', np.mean(cnn_precision))\n",
        "print('F1-score:')\n",
        "print(' MLP:', np.mean(mlp_f1))\n",
        "print(' CNN:', np.mean(cnn_f1))"
      ],
      "metadata": {
        "colab": {
          "base_uri": "https://localhost:8080/"
        },
        "id": "bAsLIUgHCIpS",
        "outputId": "35e672c5-e101-4330-ffff-da9177110134"
      },
      "execution_count": null,
      "outputs": [
        {
          "output_type": "stream",
          "name": "stdout",
          "text": [
            "Results for MLP:\n",
            "Precision:\n",
            "[0.63384615 0.6218721  0.45073375 0.33333333 0.4652568  0.52012384\n",
            " 0.6023622  0.66018307 0.66108787 0.61356297]\n",
            "F1-score:\n",
            "[0.62582278 0.64550265 0.44012282 0.40806827 0.46362268 0.40826245\n",
            " 0.60714286 0.61579509 0.64621677 0.59097978]\n",
            "Confusion Matrix:\n",
            "[[618  39  36  38  37   9  26  22 119  56]\n",
            " [ 29 671  17  32  17   7  18  14  65 130]\n",
            " [ 87  21 430 137 129  44  80  49  11  12]\n",
            " [ 29  26  76 526  49 123  89  38  16  28]\n",
            " [ 37  12 157 125 462  31  78  68  19  11]\n",
            " [ 19  17  72 356  65 336  55  49  13  18]\n",
            " [ 10  18  86 115  89  34 612  15   8  13]\n",
            " [ 37  17  48 123  96  40  15 577  18  29]\n",
            " [ 75  87  20  56  29  12  17  10 632  62]\n",
            " [ 34 171  12  70  20  10  26  32  55 570]]\n",
            "Results for CNN:\n",
            "Precision:\n",
            "[0.77085533 0.84244373 0.61767729 0.5        0.68942731 0.58857143\n",
            " 0.75848691 0.79034029 0.84935897 0.67663257]\n",
            "F1-score:\n",
            "[0.7498716  0.81324366 0.60922453 0.50980392 0.65618449 0.60292683\n",
            " 0.77006401 0.75353218 0.82128099 0.75737561]\n",
            "Confusion Matrix:\n",
            "[[730  13  59  23   9   6  16  10  66  68]\n",
            " [  9 786  10   8   1   5   7   4  12 158]\n",
            " [ 58   4 601  77  78  54  70  33  10  15]\n",
            " [ 21   9  71 520  64 187  60  29   9  30]\n",
            " [ 26   4  62  75 626  56  61  63   9  18]\n",
            " [  6   5  57 193  32 618  21  36   6  26]\n",
            " [  9   6  49  74  33  28 782   3   1  15]\n",
            " [ 12   8  45  43  56  72   5 720   6  33]\n",
            " [ 59  40  12  14   6  15   8   3 795  48]\n",
            " [ 17  58   7  13   3   9   1  10  22 860]]\n",
            "Comparison of MLP and CNN:\n",
            "Precision:\n",
            " MLP: 0.556236208832346\n",
            " CNN: 0.7083793829075247\n",
            "F1-score:\n",
            " MLP: 0.5451536158121393\n",
            " CNN: 0.7043507815587772\n"
          ]
        }
      ]
    },
    {
      "cell_type": "markdown",
      "source": [
        "It is observed that in general both architectures (MLP, CNN) give good results in the classification of images both in precision and F1-score. However, CNN performs better on F1-score in more classes. Regarding the confusion matrix we observe that both architectures recognize the classes satisfactorily."
      ],
      "metadata": {
        "id": "YbZz8Y_LCJ9t"
      }
    }
  ]
}